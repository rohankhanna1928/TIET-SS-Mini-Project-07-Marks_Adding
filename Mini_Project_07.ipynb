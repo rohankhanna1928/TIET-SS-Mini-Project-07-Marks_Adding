{
  "nbformat": 4,
  "nbformat_minor": 0,
  "metadata": {
    "colab": {
      "provenance": [],
      "authorship_tag": "ABX9TyNxF3Lf+wdR6Cv5TqL6UXY6",
      "include_colab_link": true
    },
    "kernelspec": {
      "name": "python3",
      "display_name": "Python 3"
    },
    "language_info": {
      "name": "python"
    }
  },
  "cells": [
    {
      "cell_type": "markdown",
      "metadata": {
        "id": "view-in-github",
        "colab_type": "text"
      },
      "source": [
        "<a href=\"https://colab.research.google.com/github/rohankhanna1928/TIET-SS-Mini-Project-07-Marks_Adding/blob/main/Mini_Project_07.ipynb\" target=\"_parent\"><img src=\"https://colab.research.google.com/assets/colab-badge.svg\" alt=\"Open In Colab\"/></a>"
      ]
    },
    {
      "cell_type": "code",
      "source": [
        "import pandas as pd"
      ],
      "metadata": {
        "id": "dc9Eugo7a0rN"
      },
      "execution_count": 2,
      "outputs": []
    },
    {
      "cell_type": "code",
      "execution_count": 5,
      "metadata": {
        "colab": {
          "base_uri": "https://localhost:8080/"
        },
        "id": "iLWRDZVuZPrn",
        "outputId": "d5d2c8a0-5298-4b95-f738-ab9da95877ca"
      },
      "outputs": [
        {
          "output_type": "stream",
          "name": "stdout",
          "text": [
            "Output CSV file saved as 'Added Marks.csv'.\n"
          ]
        }
      ],
      "source": [
        "df = pd.read_csv('/content/Roll Num and Marks.csv')\n",
        "\n",
        "df_grouped = df.groupby('Roll Num', as_index=False)['Marks'].sum()\n",
        "\n",
        "output_path = '/content/Added Marks.csv'\n",
        "df_grouped.to_csv(output_path, index=False)\n",
        "print(\"Output CSV file saved as 'Added Marks.csv'.\")"
      ]
    }
  ]
}